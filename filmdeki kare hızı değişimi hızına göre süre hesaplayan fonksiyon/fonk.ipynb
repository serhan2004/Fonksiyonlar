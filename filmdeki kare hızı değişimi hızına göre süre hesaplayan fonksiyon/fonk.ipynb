{
  "nbformat": 4,
  "nbformat_minor": 0,
  "metadata": {
    "colab": {
      "name": "Untitled29.ipynb",
      "provenance": []
    },
    "kernelspec": {
      "name": "python3",
      "display_name": "Python 3"
    },
    "language_info": {
      "name": "python"
    }
  },
  "cells": [
    {
      "cell_type": "code",
      "metadata": {
        "colab": {
          "base_uri": "https://localhost:8080/"
        },
        "id": "MaWr3jehkZ3t",
        "outputId": "0fa17d24-c42e-4aeb-c4ab-372f9789d8a6"
      },
      "source": [
        "// yazacağım bu fonksyion saniyedeki kare sayısı ile dakika sayısını alıp eğer daha fazla kare ile çekilseydi\n",
        "// video kaç dakika olacağını hesaplayan bir fonksiyon olacak"
      ],
      "execution_count": null,
      "outputs": [
        {
          "output_type": "execute_result",
          "data": {
            "text/plain": [
              "150"
            ]
          },
          "metadata": {},
          "execution_count": 1
        }
      ]
    },
    {
      "cell_type": "code",
      "metadata": {
        "id": "69oVlRDSpMPD"
      },
      "source": [
        "\n",
        "\n",
        "\n",
        "def hesaplayici(ilk_kare_sayisi, film_uzulugu_dakika, sonraki_kare_saysi):\n",
        "  film_saniye = film_uzulugu_dakika*60\n",
        "  filmdeki_max_karesayisi = int(ilk_kare_sayisi )*film_saniye\n",
        "  saniye = filmdeki_max_karesayisi/sonraki_kare_saysi\n",
        "  dakika  = saniye / 60\n",
        "  return dakika\n",
        "\n",
        "\n"
      ],
      "execution_count": 6,
      "outputs": []
    },
    {
      "cell_type": "code",
      "metadata": {
        "colab": {
          "base_uri": "https://localhost:8080/"
        },
        "id": "6QIJKXTbq3ei",
        "outputId": "ec53fe2b-fd9b-4a8a-b247-01bed5b8adba"
      },
      "source": [
        "hesaplayici(24,175,25)"
      ],
      "execution_count": 10,
      "outputs": [
        {
          "output_type": "execute_result",
          "data": {
            "text/plain": [
              "168.0"
            ]
          },
          "metadata": {},
          "execution_count": 10
        }
      ]
    }
  ]
}